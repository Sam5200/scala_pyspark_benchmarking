{
 "cells": [
  {
   "cell_type": "code",
   "execution_count": 1,
   "metadata": {},
   "outputs": [],
   "source": [
    "import numpy as np\n",
    "import pandas as pd\n",
    "import random\n",
    "import matplotlib.pyplot as plt\n",
    "import seaborn as sns\n",
    "import string"
   ]
  },
  {
   "cell_type": "code",
   "execution_count": 2,
   "metadata": {},
   "outputs": [],
   "source": [
    "class DataGenerator:\n",
    "    def __init__(self, rows = 20, cols_float = 2, cols_int = 2, cols_string = 2, \n",
    "                 numrange = 12, strrange = 500, draw = False):\n",
    "        self.rows = rows\n",
    "        self.cols_float = cols_float\n",
    "        self.cols_int = cols_int\n",
    "        self.cols_string = cols_string\n",
    "        self.numrange = numrange \n",
    "        self.strrange = strrange\n",
    "        self.draw = draw\n",
    "        \n",
    "    def generateData(self):\n",
    "        df = pd.DataFrame()\n",
    "        random.seed(1)\n",
    "        \n",
    "        for i in range(self.cols_float):\n",
    "            col_name =  'float' + str(i)\n",
    "            \n",
    "            seed = random.randint(0,10000) \n",
    "            df[col_name] = self.lognuniform(use_int = False, seed = seed)\n",
    "            if self.draw == True:\n",
    "                self.plot_density(df[col_name])\n",
    "                     \n",
    "        for i in range(self.cols_int):\n",
    "            col_name = 'int' + str(i)\n",
    "            seed = random.randint(0,10000) \n",
    "            df[col_name] = self.lognuniform(use_int = True, seed = seed)\n",
    "            if self.draw == True:\n",
    "                self.plot_density(df[col_name])\n",
    "        \n",
    "        for i in range(self.cols_string):\n",
    "            col_name = 'string' + str(i)\n",
    "            random.seed(random.randint(0,self.strrange))\n",
    "            #n = random.randint(0,self.strrange) \n",
    "            df[col_name] = self.randomString() #(N = n)\n",
    "       \n",
    "        return df\n",
    "          \n",
    "    def lognuniform(self, base=np.e, use_int = True, seed = 0):\n",
    "        np.random.seed(seed) \n",
    "        # Note: you can not use random.seed here since the np.random.uniform needs np.random.seed not random.seed.\n",
    "        multiplier = np.random.choice([-1,1], size= self.rows)\n",
    "        # -5 is used since we done want most of the value to be less than base\n",
    "        exponentials = np.random.uniform(low = -5, high = self.numrange, size = self.rows)\n",
    "        #data = np.power(base, np.random.uniform(low = -self.numrange, high = self.numrange, size = self.rows))\n",
    "        data = np.power(base, exponentials)  * multiplier\n",
    "        if (use_int == True):\n",
    "            return data.astype(int)\n",
    "        if (use_int == False):\n",
    "            return data\n",
    "        \n",
    "    def randomString(self):\n",
    "        mylist = []\n",
    "        # Options are Uppercase letters, lowercase letters, spaces (*10)\n",
    "        options = (string.ascii_letters + string.digits + string.punctuation + ' '*10)\n",
    "        for i in range(self.rows):\n",
    "            mystring = ''.join(random.choice(options) for i in range(random.randint(0,self.strrange)))\n",
    "            mylist.append(mystring)\n",
    "        return mylist\n",
    "\n",
    "    def plot_density(self, col):\n",
    "        count, bins, ignored = plt.hist(col, 15, density=True)\n",
    "        plt.plot(bins, np.ones_like(bins), linewidth=2, color='r')\n",
    "        plt.show()                "
   ]
  },
  {
   "cell_type": "code",
   "execution_count": 4,
   "metadata": {},
   "outputs": [],
   "source": [
    "datagen = DataGenerator(rows = 10000, cols_float = 20, cols_int = 20, cols_string = 20)\n",
    "df = datagen.generateData()\n",
    "df.head()\n",
    "df.to_csv('data_rand.csv')"
   ]
  },
  {
   "cell_type": "code",
   "execution_count": null,
   "metadata": {},
   "outputs": [],
   "source": [
    "datagen = DataGenerator()\n",
    "df = datagen.generateData()\n",
    "df.head()\n",
    "df.to_csv('data.csv')"
   ]
  },
  {
   "cell_type": "code",
   "execution_count": 78,
   "metadata": {},
   "outputs": [
    {
     "name": "stdout",
     "output_type": "stream",
     "text": [
      "<class 'pandas.core.frame.DataFrame'>\n",
      "RangeIndex: 10000 entries, 0 to 9999\n",
      "Data columns (total 60 columns):\n",
      "float0      10000 non-null float64\n",
      "float1      10000 non-null float64\n",
      "float2      10000 non-null float64\n",
      "float3      10000 non-null float64\n",
      "float4      10000 non-null float64\n",
      "float5      10000 non-null float64\n",
      "float6      10000 non-null float64\n",
      "float7      10000 non-null float64\n",
      "float8      10000 non-null float64\n",
      "float9      10000 non-null float64\n",
      "float10     10000 non-null float64\n",
      "float11     10000 non-null float64\n",
      "float12     10000 non-null float64\n",
      "float13     10000 non-null float64\n",
      "float14     10000 non-null float64\n",
      "float15     10000 non-null float64\n",
      "float16     10000 non-null float64\n",
      "float17     10000 non-null float64\n",
      "float18     10000 non-null float64\n",
      "float19     10000 non-null float64\n",
      "int0        10000 non-null int32\n",
      "int1        10000 non-null int32\n",
      "int2        10000 non-null int32\n",
      "int3        10000 non-null int32\n",
      "int4        10000 non-null int32\n",
      "int5        10000 non-null int32\n",
      "int6        10000 non-null int32\n",
      "int7        10000 non-null int32\n",
      "int8        10000 non-null int32\n",
      "int9        10000 non-null int32\n",
      "int10       10000 non-null int32\n",
      "int11       10000 non-null int32\n",
      "int12       10000 non-null int32\n",
      "int13       10000 non-null int32\n",
      "int14       10000 non-null int32\n",
      "int15       10000 non-null int32\n",
      "int16       10000 non-null int32\n",
      "int17       10000 non-null int32\n",
      "int18       10000 non-null int32\n",
      "int19       10000 non-null int32\n",
      "string0     10000 non-null object\n",
      "string1     10000 non-null object\n",
      "string2     10000 non-null object\n",
      "string3     10000 non-null object\n",
      "string4     10000 non-null object\n",
      "string5     10000 non-null object\n",
      "string6     10000 non-null object\n",
      "string7     10000 non-null object\n",
      "string8     10000 non-null object\n",
      "string9     10000 non-null object\n",
      "string10    10000 non-null object\n",
      "string11    10000 non-null object\n",
      "string12    10000 non-null object\n",
      "string13    10000 non-null object\n",
      "string14    10000 non-null object\n",
      "string15    10000 non-null object\n",
      "string16    10000 non-null object\n",
      "string17    10000 non-null object\n",
      "string18    10000 non-null object\n",
      "string19    10000 non-null object\n",
      "dtypes: float64(20), int32(20), object(20)\n",
      "memory usage: 3.8+ MB\n"
     ]
    }
   ],
   "source": [
    "df.info()"
   ]
  },
  {
   "cell_type": "code",
   "execution_count": 79,
   "metadata": {},
   "outputs": [
    {
     "name": "stdout",
     "output_type": "stream",
     "text": [
      "Average memory usage for float columns: 76194.29 KB\n",
      "Total memory usage for float columns: 1600080.00 KB\n",
      "Average memory usage for int columns: 38099.05 KB\n",
      "Total memory usage for int columns: 800080.00 KB\n",
      "Average memory usage for object columns: 2918790.14 KB\n",
      "Total memory usage for object columns: 61294593.00 KB\n"
     ]
    }
   ],
   "source": [
    "## Lets now look at the total memory consumed by the pandas dataframe in memory \n",
    "for dtype in ['float','int','object']:\n",
    "    selected_dtype = df.select_dtypes(include=[dtype])\n",
    "    mean_usage = selected_dtype.memory_usage(deep=True).mean() \n",
    "    total_usage = selected_dtype.memory_usage(deep=True).sum()\n",
    "    print(\"Average memory usage for {} columns: {:03.2f} KB\".format(dtype,mean_usage))\n",
    "    print(\"Total memory usage for {} columns: {:03.2f} KB\".format(dtype,total_usage))"
   ]
  },
  {
   "cell_type": "code",
   "execution_count": 80,
   "metadata": {},
   "outputs": [],
   "source": [
    "df.to_csv(\"ramdom_data1.csv\", index=False)"
   ]
  }
 ],
 "metadata": {
  "kernelspec": {
   "display_name": "Python 3",
   "language": "python",
   "name": "python3"
  },
  "language_info": {
   "codemirror_mode": {
    "name": "ipython",
    "version": 3
   },
   "file_extension": ".py",
   "mimetype": "text/x-python",
   "name": "python",
   "nbconvert_exporter": "python",
   "pygments_lexer": "ipython3",
   "version": "3.6.7"
  }
 },
 "nbformat": 4,
 "nbformat_minor": 2
}
