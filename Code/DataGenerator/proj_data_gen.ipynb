{
 "cells": [
  {
   "cell_type": "code",
   "execution_count": 1,
   "metadata": {},
   "outputs": [
    {
     "data": {
      "text/html": [
       "<style scoped>\n",
       "  .ansiout {\n",
       "    display: block;\n",
       "    unicode-bidi: embed;\n",
       "    white-space: pre-wrap;\n",
       "    word-wrap: break-word;\n",
       "    word-break: break-all;\n",
       "    font-family: \"Source Code Pro\", \"Menlo\", monospace;;\n",
       "    font-size: 13px;\n",
       "    color: #555;\n",
       "    margin-left: 4px;\n",
       "    line-height: 19px;\n",
       "  }\n",
       "</style>\n",
       "<div class=\"ansiout\"></div>"
      ]
     },
     "metadata": {},
     "output_type": "display_data"
    }
   ],
   "source": [
    "# For Data Generation\n",
    "import numpy as np\n",
    "import pandas as pd\n",
    "import random\n",
    "import matplotlib.pyplot as plt\n",
    "import seaborn as sns\n",
    "import string"
   ]
  },
  {
   "cell_type": "code",
   "execution_count": 2,
   "metadata": {},
   "outputs": [
    {
     "data": {
      "text/html": [
       "<style scoped>\n",
       "  .ansiout {\n",
       "    display: block;\n",
       "    unicode-bidi: embed;\n",
       "    white-space: pre-wrap;\n",
       "    word-wrap: break-word;\n",
       "    word-break: break-all;\n",
       "    font-family: \"Source Code Pro\", \"Menlo\", monospace;;\n",
       "    font-size: 13px;\n",
       "    color: #555;\n",
       "    margin-left: 4px;\n",
       "    line-height: 19px;\n",
       "  }\n",
       "</style>\n",
       "<div class=\"ansiout\"></div>"
      ]
     },
     "metadata": {},
     "output_type": "display_data"
    }
   ],
   "source": [
    "class DataGenerator:\n",
    "    def __init__(self, rows = 20, cols_float = 2, cols_int = 2, cols_words=3, cols_group=3\n",
    "                 ,numrange = 12, strrange = 500, draw = False, wordsCount=5, groupsElements=10, groupsWordsCount=2):\n",
    "        self.rows = rows\n",
    "        self.cols_float = cols_float\n",
    "        self.cols_int = cols_int\n",
    "        self.cols_words = cols_words\n",
    "        self.numrange = numrange \n",
    "        self.strrange = strrange\n",
    "        self.wordsCount = wordsCount\n",
    "        self.cols_group = cols_group\n",
    "        self.groupsWordsCount=groupsWordsCount\n",
    "        self.groupsElements = groupsElements\n",
    "        self.draw = draw\n",
    "        #https://github.com/dwyl/english-words\n",
    "        words_file=\"https://computersciencewiki.org/images/1/13/Words_alpha.txt\"\n",
    "        self.words = pd.read_csv(words_file, sep=\" \", header=None)\n",
    "    \n",
    "    def set_rows(self, nrows):\n",
    "      self.rows = nrows\n",
    "      \n",
    "    def print(self):\n",
    "      print (\"Rows: {}\".format(self.rows))\n",
    "      print (\"Float Columns: {}\".format(self.cols_float))\n",
    "      print (\"Integer Columns: {}\".format(self.cols_int))\n",
    "      # Add more as needed\n",
    "          \n",
    "    def generateData(self):\n",
    "        df = pd.DataFrame()\n",
    "        random.seed(1)\n",
    "        \n",
    "        for i in range(self.cols_float):\n",
    "            col_name =  'float' + str(i)\n",
    "            \n",
    "            seed = random.randint(0,10000) \n",
    "            df[col_name] = self.lognuniform(use_int = False, seed = seed)\n",
    "            if self.draw == True:\n",
    "                self.plot_density(df[col_name])\n",
    "                     \n",
    "        for i in range(self.cols_int):\n",
    "            col_name = 'int' + str(i)\n",
    "            seed = random.randint(0,10000) \n",
    "            df[col_name] = self.lognuniform(use_int = True, seed = seed)\n",
    "            if self.draw == True:\n",
    "                self.plot_density(df[col_name])\n",
    "        \n",
    "        for i in range(self.cols_words):\n",
    "            col_name = 'words' + str(i)\n",
    "            df[col_name] = self.randomWords() #(N = n)\n",
    "        \n",
    "        for i in range(self.cols_group):\n",
    "            col_name = 'group' + str(i)\n",
    "            df[col_name] = self.randomGroups() #(N = n)\n",
    "       \n",
    "        return df         \n",
    "    \n",
    "    def lognuniform(self, base=np.e, use_int = True, seed = 0):\n",
    "        np.random.seed(seed) \n",
    "        # Note: you can not use random.seed here since the np.random.uniform needs np.random.seed not random.seed.\n",
    "        multiplier = np.random.choice([-1,1], size= self.rows)\n",
    "        # -5 is used since we done want most of the value to be less than base\n",
    "        exponentials = np.random.uniform(low = -5, high = self.numrange, size = self.rows)\n",
    "        #data = np.power(base, np.random.uniform(low = -self.numrange, high = self.numrange, size = self.rows))\n",
    "        data = np.power(base, exponentials)  * multiplier\n",
    "        if (use_int == True):\n",
    "            return data.astype(int)\n",
    "        if (use_int == False):\n",
    "            return data\n",
    "    \n",
    "    def randomWords(self):\n",
    "        mylist = []\n",
    "        for i in range(self.rows):\n",
    "            mystring = (' '.join(str(self.words.iat[random.randint(0,self.words.shape[0]-1),0]) for i in range(random.randint(1,self.wordsCount)))).strip()\n",
    "            mylist.append(mystring)\n",
    "        return mylist\n",
    "    \n",
    "    def randomGroups(self):\n",
    "        groups = []\n",
    "        for i in range(self.groupsElements):\n",
    "            mystring = (' '.join(str(self.words.iat[random.randint(0,self.words.shape[0]-1),0]) for i in range(random.randint(1,self.groupsWordsCount)))).strip()\n",
    "            groups.append(mystring)\n",
    "        mylist = []\n",
    "        for i in range(self.rows):\n",
    "            mystring = groups[random.randint(0,len(groups)-1)]\n",
    "            mylist.append(mystring)\n",
    "        return mylist\n",
    "    \n",
    "    def plot_density(self, col):\n",
    "        count, bins, ignored = plt.hist(col, 15, density=True)\n",
    "        plt.plot(bins, np.ones_like(bins), linewidth=2, color='r')\n",
    "        plt.show()                "
   ]
  },
  {
   "cell_type": "code",
   "execution_count": 3,
   "metadata": {},
   "outputs": [
    {
     "data": {
      "text/html": [
       "<style scoped>\n",
       "  .ansiout {\n",
       "    display: block;\n",
       "    unicode-bidi: embed;\n",
       "    white-space: pre-wrap;\n",
       "    word-wrap: break-word;\n",
       "    word-break: break-all;\n",
       "    font-family: \"Source Code Pro\", \"Menlo\", monospace;;\n",
       "    font-size: 13px;\n",
       "    color: #555;\n",
       "    margin-left: 4px;\n",
       "    line-height: 19px;\n",
       "  }\n",
       "</style>\n",
       "<div class=\"ansiout\"></div>"
      ]
     },
     "metadata": {},
     "output_type": "display_data"
    }
   ],
   "source": [
    "size = \"300MB\"\n",
    "\n",
    "# Default 10MB file\n",
    "datagen = DataGenerator(rows = 10000, cols_float = 20, cols_int = 20, cols_words=10, cols_group=11, wordsCount = 10)\n",
    "\n",
    "if size == \"100MB\":\n",
    "  datagen.set_rows(100000) \n",
    "if size == \"200MB\":\n",
    "  datagen.set_rows(200000) \n",
    "if size == \"300MB\":\n",
    "  datagen.set_rows(300000) \n",
    "if size == \"500MB\":\n",
    "  datagen.set_rows(500000) \n",
    "if size == \"1GB\":\n",
    "  datagen.set_rows(1000000) "
   ]
  },
  {
   "cell_type": "code",
   "execution_count": 4,
   "metadata": {},
   "outputs": [
    {
     "data": {
      "text/html": [
       "<style scoped>\n",
       "  .ansiout {\n",
       "    display: block;\n",
       "    unicode-bidi: embed;\n",
       "    white-space: pre-wrap;\n",
       "    word-wrap: break-word;\n",
       "    word-break: break-all;\n",
       "    font-family: \"Source Code Pro\", \"Menlo\", monospace;;\n",
       "    font-size: 13px;\n",
       "    color: #555;\n",
       "    margin-left: 4px;\n",
       "    line-height: 19px;\n",
       "  }\n",
       "</style>\n",
       "<div class=\"ansiout\"></div>"
      ]
     },
     "metadata": {},
     "output_type": "display_data"
    }
   ],
   "source": [
    "df = datagen.generateData()"
   ]
  },
  {
   "cell_type": "code",
   "execution_count": 5,
   "metadata": {},
   "outputs": [
    {
     "data": {
      "text/html": [
       "<style scoped>\n",
       "  .ansiout {\n",
       "    display: block;\n",
       "    unicode-bidi: embed;\n",
       "    white-space: pre-wrap;\n",
       "    word-wrap: break-word;\n",
       "    word-break: break-all;\n",
       "    font-family: \"Source Code Pro\", \"Menlo\", monospace;;\n",
       "    font-size: 13px;\n",
       "    color: #555;\n",
       "    margin-left: 4px;\n",
       "    line-height: 19px;\n",
       "  }\n",
       "</style>\n",
       "<div class=\"ansiout\"></div>"
      ]
     },
     "metadata": {},
     "output_type": "display_data"
    }
   ],
   "source": [
    "file_loc = \"/dbfs\"\n",
    "file_prefix = \"/mnt/blob/datasets/\"\n",
    "file_name = \"dataset_\" + size"
   ]
  },
  {
   "cell_type": "code",
   "execution_count": 6,
   "metadata": {},
   "outputs": [
    {
     "data": {
      "text/html": [
       "<style scoped>\n",
       "  .ansiout {\n",
       "    display: block;\n",
       "    unicode-bidi: embed;\n",
       "    white-space: pre-wrap;\n",
       "    word-wrap: break-word;\n",
       "    word-break: break-all;\n",
       "    font-family: \"Source Code Pro\", \"Menlo\", monospace;;\n",
       "    font-size: 13px;\n",
       "    color: #555;\n",
       "    margin-left: 4px;\n",
       "    line-height: 19px;\n",
       "  }\n",
       "</style>\n",
       "<div class=\"ansiout\"></div>"
      ]
     },
     "metadata": {},
     "output_type": "display_data"
    }
   ],
   "source": [
    "# Make directory if it does not exist\n",
    "dbutils.fs.mkdirs(file_prefix)\n",
    "\n",
    "# Remove existing files for new run\n",
    "dbutils.fs.rm(file_prefix + file_name + \".csv\")\n",
    "\n",
    "# Write new file (needs /dbfs added to the begining of file name)\n",
    "df.to_csv(file_loc + file_prefix + file_name + \".csv\", index = False)"
   ]
  },
  {
   "cell_type": "code",
   "execution_count": 7,
   "metadata": {},
   "outputs": [
    {
     "data": {
      "text/html": [
       "<style scoped>\n",
       "  .ansiout {\n",
       "    display: block;\n",
       "    unicode-bidi: embed;\n",
       "    white-space: pre-wrap;\n",
       "    word-wrap: break-word;\n",
       "    word-break: break-all;\n",
       "    font-family: \"Source Code Pro\", \"Menlo\", monospace;;\n",
       "    font-size: 13px;\n",
       "    color: #555;\n",
       "    margin-left: 4px;\n",
       "    line-height: 19px;\n",
       "  }\n",
       "</style>\n",
       "<div class=\"ansiout\">Rows: 100\n",
       "Float Columns: 20\n",
       "Integer Columns: 20\n",
       "</div>"
      ]
     },
     "metadata": {},
     "output_type": "display_data"
    }
   ],
   "source": [
    "# Writing 100 new rows\n",
    "datagen.set_rows(100) \n",
    "datagen.print()\n",
    "data2 = datagen.generateData()\n",
    "data2.shape\n",
    "\n",
    "# Remove existing files for new run\n",
    "dbutils.fs.rm(file_prefix + \"add_100.csv\")\n",
    "# Write new file (needs /dbfs added to the begining of file name)\n",
    "data2.to_csv(file_loc + file_prefix + file_name + \"_add_100.csv\", index = False)"
   ]
  },
  {
   "cell_type": "code",
   "execution_count": 8,
   "metadata": {},
   "outputs": [
    {
     "data": {
      "text/html": [
       "<style scoped>\n",
       "  .ansiout {\n",
       "    display: block;\n",
       "    unicode-bidi: embed;\n",
       "    white-space: pre-wrap;\n",
       "    word-wrap: break-word;\n",
       "    word-break: break-all;\n",
       "    font-family: \"Source Code Pro\", \"Menlo\", monospace;;\n",
       "    font-size: 13px;\n",
       "    color: #555;\n",
       "    margin-left: 4px;\n",
       "    line-height: 19px;\n",
       "  }\n",
       "</style>\n",
       "<div class=\"ansiout\">Rows: 1000\n",
       "Float Columns: 20\n",
       "Integer Columns: 20\n",
       "</div>"
      ]
     },
     "metadata": {},
     "output_type": "display_data"
    }
   ],
   "source": [
    "# Writing 1000 new rows\n",
    "datagen.set_rows(1000) \n",
    "datagen.print()\n",
    "data2 = datagen.generateData()\n",
    "data2.shape\n",
    "\n",
    "# Remove existing files for new run\n",
    "dbutils.fs.rm(file_prefix + \"add_1000.csv\")\n",
    "# Write new file (needs /dbfs added to the begining of file name)\n",
    "data2.to_csv(file_loc + file_prefix + file_name + \"_add_1000.csv\", index = False)"
   ]
  },
  {
   "cell_type": "code",
   "execution_count": 9,
   "metadata": {},
   "outputs": [
    {
     "data": {
      "text/html": [
       "<style scoped>\n",
       "  .ansiout {\n",
       "    display: block;\n",
       "    unicode-bidi: embed;\n",
       "    white-space: pre-wrap;\n",
       "    word-wrap: break-word;\n",
       "    word-break: break-all;\n",
       "    font-family: \"Source Code Pro\", \"Menlo\", monospace;;\n",
       "    font-size: 13px;\n",
       "    color: #555;\n",
       "    margin-left: 4px;\n",
       "    line-height: 19px;\n",
       "  }\n",
       "</style>\n",
       "<div class=\"ansiout\">Rows: 10000\n",
       "Float Columns: 20\n",
       "Integer Columns: 20\n",
       "</div>"
      ]
     },
     "metadata": {},
     "output_type": "display_data"
    }
   ],
   "source": [
    "# Writing 10000 new rows\n",
    "datagen.set_rows(10000) \n",
    "datagen.print()\n",
    "data2 = datagen.generateData()\n",
    "data2.shape\n",
    "\n",
    "# Remove existing files for new run\n",
    "dbutils.fs.rm(file_prefix + \"add_10000.csv\")\n",
    "# Write new file (needs /dbfs added to the begining of file name)\n",
    "data2.to_csv(file_loc + file_prefix + file_name + \"_add_10000.csv\", index = False)"
   ]
  },
  {
   "cell_type": "code",
   "execution_count": 10,
   "metadata": {},
   "outputs": [
    {
     "data": {
      "text/html": [
       "<style scoped>\n",
       "  .ansiout {\n",
       "    display: block;\n",
       "    unicode-bidi: embed;\n",
       "    white-space: pre-wrap;\n",
       "    word-wrap: break-word;\n",
       "    word-break: break-all;\n",
       "    font-family: \"Source Code Pro\", \"Menlo\", monospace;;\n",
       "    font-size: 13px;\n",
       "    color: #555;\n",
       "    margin-left: 4px;\n",
       "    line-height: 19px;\n",
       "  }\n",
       "</style>\n",
       "<div class=\"ansiout\"></div>"
      ]
     },
     "metadata": {},
     "output_type": "display_data"
    }
   ],
   "source": [
    "# Remove all files in location (use with caution)\n",
    "#%fs rm -r /mnt/blob/"
   ]
  }
 ],
 "metadata": {
  "kernelspec": {
   "display_name": "Python 3",
   "language": "python",
   "name": "python3"
  },
  "language_info": {
   "codemirror_mode": {
    "name": "ipython",
    "version": 3
   },
   "file_extension": ".py",
   "mimetype": "text/x-python",
   "name": "python",
   "nbconvert_exporter": "python",
   "pygments_lexer": "ipython3",
   "version": "3.6.8"
  },
  "name": "proj_data_gen",
  "notebookId": 3962663298264192
 },
 "nbformat": 4,
 "nbformat_minor": 1
}
