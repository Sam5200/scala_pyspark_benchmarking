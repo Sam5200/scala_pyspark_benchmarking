{
 "cells": [
  {
   "cell_type": "code",
   "execution_count": 1,
   "metadata": {},
   "outputs": [],
   "source": [
    "import numpy as np\n",
    "import pandas as pd\n",
    "import random\n",
    "import matplotlib.pyplot as plt\n",
    "import seaborn as sns\n",
    "import string"
   ]
  },
  {
   "cell_type": "code",
   "execution_count": 2,
   "metadata": {},
   "outputs": [],
   "source": [
    "class DataGenerator:\n",
    "    def __init__(self, rows = 20, cols_float = 2, cols_int = 2, cols_string = 2, cols_words=3,cols_group=3\n",
    "                 ,numrange = 12, strrange = 500, draw = False, wordsCount=5, groupsElements=10, groupsWordsCount=2):\n",
    "        self.rows = rows\n",
    "        self.cols_float = cols_float\n",
    "        self.cols_int = cols_int\n",
    "        self.cols_string = cols_string\n",
    "        self.cols_words = cols_words\n",
    "        self.numrange = numrange \n",
    "        self.strrange = strrange\n",
    "        self.wordsCount = wordsCount\n",
    "        self.cols_group = cols_group\n",
    "        self.groupsWordsCount=groupsWordsCount\n",
    "        self.groupsElements = groupsElements\n",
    "        self.draw = draw\n",
    "        #https://github.com/dwyl/english-words\n",
    "        words_file=\"https://computersciencewiki.org/images/1/13/Words_alpha.txt\"\n",
    "        self.words = pd.read_csv(words_file, sep=\" \", header=None)\n",
    "        \n",
    "          \n",
    "    def generateData(self):\n",
    "        df = pd.DataFrame()\n",
    "        random.seed(1)\n",
    "        \n",
    "        for i in range(self.cols_float):\n",
    "            col_name =  'float' + str(i)\n",
    "            \n",
    "            seed = random.randint(0,10000) \n",
    "            df[col_name] = self.lognuniform(use_int = False, seed = seed)\n",
    "            if self.draw == True:\n",
    "                self.plot_density(df[col_name])\n",
    "                     \n",
    "        for i in range(self.cols_int):\n",
    "            col_name = 'int' + str(i)\n",
    "            seed = random.randint(0,10000) \n",
    "            df[col_name] = self.lognuniform(use_int = True, seed = seed)\n",
    "            if self.draw == True:\n",
    "                self.plot_density(df[col_name])\n",
    "        \n",
    "        for i in range(self.cols_words):\n",
    "            col_name = 'words' + str(i)\n",
    "            df[col_name] = self.randomWords() #(N = n)\n",
    "        \n",
    "        for i in range(self.cols_group):\n",
    "            col_name = 'group' + str(i)\n",
    "            df[col_name] = self.randomGroups() #(N = n)\n",
    "        \n",
    "        for i in range(self.cols_string):\n",
    "            col_name = 'string' + str(i)\n",
    "            random.seed(random.randint(0,self.strrange))\n",
    "            #n = random.randint(0,self.strrange) \n",
    "            df[col_name] = self.randomString() #(N = n)\n",
    "        \n",
    "        return df         \n",
    "    \n",
    "    def lognuniform(self, base=np.e, use_int = True, seed = 0):\n",
    "        np.random.seed(seed) \n",
    "        # Note: you can not use random.seed here since the np.random.uniform needs np.random.seed not random.seed.\n",
    "        multiplier = np.random.choice([-1,1], size= self.rows)\n",
    "        # -5 is used since we done want most of the value to be less than base\n",
    "        exponentials = np.random.uniform(low = -5, high = self.numrange, size = self.rows)\n",
    "        #data = np.power(base, np.random.uniform(low = -self.numrange, high = self.numrange, size = self.rows))\n",
    "        data = np.power(base, exponentials)  * multiplier\n",
    "        if (use_int == True):\n",
    "            return data.astype(int)\n",
    "        if (use_int == False):\n",
    "            return data\n",
    "        \n",
    "    def randomString(self):\n",
    "        mylist = []\n",
    "        # Options are Uppercase letters, lowercase letters, spaces (*10)\n",
    "        options = (string.ascii_letters + string.digits + string.punctuation + ' '*10)\n",
    "        for i in range(self.rows):\n",
    "            mystring = ''.join(random.choice(options) for i in range(random.randint(0,self.strrange)))\n",
    "            mylist.append(mystring)\n",
    "        return mylist\n",
    "\n",
    "    def randomWords(self):\n",
    "        mylist = []\n",
    "        for i in range(self.rows):\n",
    "            mystring = (' '.join(str(self.words.iat[random.randint(0,self.words.shape[0]-1),0]) for i in range(random.randint(1,self.wordsCount)))).strip()\n",
    "            mylist.append(mystring)\n",
    "        return mylist\n",
    "    \n",
    "    def randomGroups(self):\n",
    "        groups = []\n",
    "        for i in range(self.groupsElements):\n",
    "            mystring = (' '.join(str(self.words.iat[random.randint(0,self.words.shape[0]-1),0]) for i in range(random.randint(1,self.groupsWordsCount)))).strip()\n",
    "            groups.append(mystring)\n",
    "        mylist = []\n",
    "        for i in range(self.rows):\n",
    "            mystring = groups[random.randint(0,len(groups)-1)]\n",
    "            mylist.append(mystring)\n",
    "        return mylist\n",
    "    \n",
    "    def plot_density(self, col):\n",
    "        count, bins, ignored = plt.hist(col, 15, density=True)\n",
    "        plt.plot(bins, np.ones_like(bins), linewidth=2, color='r')\n",
    "        plt.show()                "
   ]
  },
  {
   "cell_type": "code",
   "execution_count": 25,
   "metadata": {
    "scrolled": true
   },
   "outputs": [],
   "source": [
    "datagen = DataGenerator(rows = 10000, cols_float = 20, cols_int = 20, cols_string = 0, cols_words=15,cols_group=15)\n",
    "df = datagen.generateData()\n",
    "df.head()\n",
    "df.to_csv(\"data_rand.csv\", index=False)\n"
   ]
  },
  {
   "cell_type": "code",
   "execution_count": 33,
   "metadata": {},
   "outputs": [],
   "source": []
  },
  {
   "cell_type": "code",
   "execution_count": 6,
   "metadata": {},
   "outputs": [
    {
     "data": {
      "text/plain": [
       "(20, 12)"
      ]
     },
     "execution_count": 6,
     "metadata": {},
     "output_type": "execute_result"
    }
   ],
   "source": [
    "datagen = DataGenerator()\n",
    "df = datagen.generateData()\n",
    "df.to_csv('data_rand_test.csv')\n",
    "df.head()\n",
    "df.shape\n"
   ]
  },
  {
   "cell_type": "code",
   "execution_count": 7,
   "metadata": {},
   "outputs": [],
   "source": [
    "datagen = DataGenerator(rows = 5000, cols_float = 20, cols_int = 20, cols_string = 1, cols_words=15,cols_group=15)\n",
    "df = datagen.generateData()\n",
    "df.head()\n",
    "df.to_csv(\"data_rand.csv\", index=False)"
   ]
  },
  {
   "cell_type": "code",
   "execution_count": 8,
   "metadata": {
    "scrolled": true
   },
   "outputs": [
    {
     "name": "stdout",
     "output_type": "stream",
     "text": [
      "<class 'pandas.core.frame.DataFrame'>\n",
      "RangeIndex: 5000 entries, 0 to 4999\n",
      "Data columns (total 71 columns):\n",
      "float0     5000 non-null float64\n",
      "float1     5000 non-null float64\n",
      "float2     5000 non-null float64\n",
      "float3     5000 non-null float64\n",
      "float4     5000 non-null float64\n",
      "float5     5000 non-null float64\n",
      "float6     5000 non-null float64\n",
      "float7     5000 non-null float64\n",
      "float8     5000 non-null float64\n",
      "float9     5000 non-null float64\n",
      "float10    5000 non-null float64\n",
      "float11    5000 non-null float64\n",
      "float12    5000 non-null float64\n",
      "float13    5000 non-null float64\n",
      "float14    5000 non-null float64\n",
      "float15    5000 non-null float64\n",
      "float16    5000 non-null float64\n",
      "float17    5000 non-null float64\n",
      "float18    5000 non-null float64\n",
      "float19    5000 non-null float64\n",
      "int0       5000 non-null int32\n",
      "int1       5000 non-null int32\n",
      "int2       5000 non-null int32\n",
      "int3       5000 non-null int32\n",
      "int4       5000 non-null int32\n",
      "int5       5000 non-null int32\n",
      "int6       5000 non-null int32\n",
      "int7       5000 non-null int32\n",
      "int8       5000 non-null int32\n",
      "int9       5000 non-null int32\n",
      "int10      5000 non-null int32\n",
      "int11      5000 non-null int32\n",
      "int12      5000 non-null int32\n",
      "int13      5000 non-null int32\n",
      "int14      5000 non-null int32\n",
      "int15      5000 non-null int32\n",
      "int16      5000 non-null int32\n",
      "int17      5000 non-null int32\n",
      "int18      5000 non-null int32\n",
      "int19      5000 non-null int32\n",
      "words0     5000 non-null object\n",
      "words1     5000 non-null object\n",
      "words2     5000 non-null object\n",
      "words3     5000 non-null object\n",
      "words4     5000 non-null object\n",
      "words5     5000 non-null object\n",
      "words6     5000 non-null object\n",
      "words7     5000 non-null object\n",
      "words8     5000 non-null object\n",
      "words9     5000 non-null object\n",
      "words10    5000 non-null object\n",
      "words11    5000 non-null object\n",
      "words12    5000 non-null object\n",
      "words13    5000 non-null object\n",
      "words14    5000 non-null object\n",
      "group0     5000 non-null object\n",
      "group1     5000 non-null object\n",
      "group2     5000 non-null object\n",
      "group3     5000 non-null object\n",
      "group4     5000 non-null object\n",
      "group5     5000 non-null object\n",
      "group6     5000 non-null object\n",
      "group7     5000 non-null object\n",
      "group8     5000 non-null object\n",
      "group9     5000 non-null object\n",
      "group10    5000 non-null object\n",
      "group11    5000 non-null object\n",
      "group12    5000 non-null object\n",
      "group13    5000 non-null object\n",
      "group14    5000 non-null object\n",
      "string0    5000 non-null object\n",
      "dtypes: float64(20), int32(20), object(31)\n",
      "memory usage: 2.3+ MB\n"
     ]
    }
   ],
   "source": [
    "df.info()"
   ]
  },
  {
   "cell_type": "code",
   "execution_count": 9,
   "metadata": {},
   "outputs": [
    {
     "name": "stdout",
     "output_type": "stream",
     "text": [
      "Average memory usage for float columns: 38099.05 KB\n",
      "Total memory usage for float columns: 800080.00 KB\n",
      "Average memory usage for int columns: 19051.43 KB\n",
      "Total memory usage for int columns: 400080.00 KB\n",
      "Average memory usage for object columns: 419275.09 KB\n",
      "Total memory usage for object columns: 13416803.00 KB\n"
     ]
    }
   ],
   "source": [
    "## Lets now look at the total memory consumed by the pandas dataframe in memory \n",
    "for dtype in ['float','int','object']:\n",
    "    selected_dtype = df.select_dtypes(include=[dtype])\n",
    "    mean_usage = selected_dtype.memory_usage(deep=True).mean() \n",
    "    total_usage = selected_dtype.memory_usage(deep=True).sum()\n",
    "    print(\"Average memory usage for {} columns: {:03.2f} KB\".format(dtype,mean_usage))\n",
    "    print(\"Total memory usage for {} columns: {:03.2f} KB\".format(dtype,total_usage))"
   ]
  },
  {
   "cell_type": "code",
   "execution_count": 10,
   "metadata": {},
   "outputs": [],
   "source": [
    "df.to_csv(\"data_rand.csv\", index=False)"
   ]
  },
  {
   "cell_type": "code",
   "execution_count": null,
   "metadata": {},
   "outputs": [],
   "source": []
  },
  {
   "cell_type": "code",
   "execution_count": null,
   "metadata": {},
   "outputs": [],
   "source": []
  },
  {
   "cell_type": "code",
   "execution_count": 11,
   "metadata": {},
   "outputs": [],
   "source": [
    "import csv\n",
    "#import urllib2\n",
    "url=\"https://computersciencewiki.org/images/1/13/Words_alpha.txt\"\n",
    "#response = urllib2.urlopen(url)\n",
    "words = pd.read_csv(url, sep=\" \", header=None)"
   ]
  },
  {
   "cell_type": "code",
   "execution_count": null,
   "metadata": {},
   "outputs": [],
   "source": []
  }
 ],
 "metadata": {
  "kernelspec": {
   "display_name": "Python 3",
   "language": "python",
   "name": "python3"
  },
  "language_info": {
   "codemirror_mode": {
    "name": "ipython",
    "version": 3
   },
   "file_extension": ".py",
   "mimetype": "text/x-python",
   "name": "python",
   "nbconvert_exporter": "python",
   "pygments_lexer": "ipython3",
   "version": "3.6.8"
  }
 },
 "nbformat": 4,
 "nbformat_minor": 2
}
